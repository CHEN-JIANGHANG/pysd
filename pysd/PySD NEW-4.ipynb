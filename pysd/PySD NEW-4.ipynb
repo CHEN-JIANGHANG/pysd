{
 "cells": [
  {
   "cell_type": "code",
   "execution_count": 1,
   "metadata": {
    "collapsed": true
   },
   "outputs": [],
   "source": [
    "import numpy as np\n",
    "import regex as re\n",
    "import utils\n",
    "import textwrap\n",
    "import parsimonious"
   ]
  },
  {
   "cell_type": "code",
   "execution_count": 2,
   "metadata": {
    "collapsed": false
   },
   "outputs": [],
   "source": [
    "with open('STAMPS MPOT v32g.dyn','rU') as in_file:\n",
    "    text=in_file.read()\n",
    "text=re.sub(r'(?i)MACRO[\\s\\S]*MEND','',text)\n",
    "text=re.sub(r'\\*+ {2}Group.*','',text)"
   ]
  },
  {
   "cell_type": "code",
   "execution_count": 3,
   "metadata": {
    "collapsed": false
   },
   "outputs": [],
   "source": [
    "#deprecated, too slow\n",
    "def if_then_else(text):\n",
    "    try:\n",
    "        valuetounpack=re.findall('(?i)(?!.{2}.*?if)(if.*?then.*?else.*?)(then|else|$)',text)[-1][0]\n",
    "        unpacked=filter(None,[x.strip() for x in re.split(r'(?i)if|then|else',valuetounpack)])\n",
    "        text=text.replace(valuetounpack,'_conditional(%s)'%','.join(unpacked))\n",
    "        return if_then_else(text)\n",
    "    except:\n",
    "        return text\n",
    "    \n",
    "def if_then_else(text):\n",
    "    try:\n",
    "        valuetounpack=re.findall('(?i)((\\W|if|then|else) *)(if.*?then.*?else.*?)(then|else|$)',\n",
    "                                 text,overlapped=True)[-1][2]\n",
    "        unpacked=filter(None,[x.strip() for x in re.split(r'(?i)then|else',valuetounpack[2:])])\n",
    "        text=text.replace(valuetounpack,'_conditional(%s)'%','.join(unpacked))\n",
    "        return if_then_else(text)\n",
    "    except:\n",
    "        return text    "
   ]
  },
  {
   "cell_type": "code",
   "execution_count": 24,
   "metadata": {
    "collapsed": true
   },
   "outputs": [],
   "source": [
    "functiondic={'MAX':'np.maximum','MIN':'np.minimum','SUM':'np.sum','if_then_else':'np.where',\n",
    "             'SUMV':'functions.sumv','ABS':'abs', 'INTEGER':'int','EXP':'np.exp','PI':'np.pi', \n",
    "             'SIN':'np.sin', 'COS':'np.cos','SQRT':'np.sqrt', 'TAN':'np.tan', 'LOGN':'np.random.lognormal',\n",
    "             'RANDOM NORMAL':'functions.bounded_normal','POISSON':'np.random.poisson','LN':'np.log', \n",
    "             'EXPRND':'np.random.exponential','RANDOM UNIFORM':'np.random.rand','ARCCOS':'np.arccos',\n",
    "             'ARCSIN':'np.arcsin','ARCTAN':'np.arctan','STEP':'functions.step', 'MODULO':'np.mod', \n",
    "             'PULSE':'functions.pulse', 'PULSE TRAIN':'functions.pulse_train','RAMP':'functions.ramp', \n",
    "             'FIFZE':'functions.fifze', 'FIFGE':'functions.fifge','SCLPRD':'functions.sclprd', \n",
    "             'PRDV':'functions.prdv','SMOOTH3I':'smooth3i','SMOOTH3':'smooth3','SMOOTHI':'smoothi',\n",
    "             'SMOOTH':'smooth','LOGN':'np.log', 'ROUND':'np.round','DELAY3I':'delay3i','DELAY3':'delay3',\n",
    "             'DELAY1I':'delayi','DELAY1':'delay','DELAYI':'delayi','DELAY':'delay','FLOOR':'np.floor',\n",
    "             'VECTORMIN':'np.min','VECTORMAX':'np.max','PROD':'np.prod','TABHL':'functions.tabhl',\n",
    "             'POS':'pos','MISSING()':'0','TUNE1':'tune1','_conditional':'if_then_else'\n",
    "            }\n",
    "functiondic={x.lower():functiondic[x].lower() for x in functiondic.keys()}"
   ]
  },
  {
   "cell_type": "code",
   "execution_count": 49,
   "metadata": {
    "collapsed": false
   },
   "outputs": [],
   "source": [
    "model_all=[x[0] for x in re.findall(r'([A-Z]+ +.+(\\n {5}.+)*)',text)]\n",
    "model_vars=[x for x in model_all if re.match('(C|A|T|R|L|N|SPEC)\\s',x)]\n",
    "\n",
    "#Subscripts\n",
    "model_subs=[re.sub(r'\\n\\s{5}','',x[5:]) for x in model_all if x.startswith('FOR')]\n",
    "model_subs={x.split('=',1)[0]:x.split('=',1)[-1].split(',') for x in model_subs}\n",
    "for key,value in model_subs.iteritems():\n",
    "    if len(value)==1 and re.search('-',value[0]):\n",
    "        value=value[0]\n",
    "        if not re.search(r'[a-zA-Z]',value):\n",
    "            start=int(value.split('-')[0])\n",
    "            stop=int(value.split('-')[-1])+1\n",
    "            model_subs[key]=[str(x) for x in range(start,stop)]\n",
    "        else:\n",
    "            start=value.split('-')[0]\n",
    "            stop=value.split('-')[-1]\n",
    "            base=[x for x,y in model_subs.iteritems() if x!=key and start in y and stop in y]\n",
    "            base=model_subs[base[0]]\n",
    "            model_subs[key]=[x for x in base if base.index(x)>=base.index(start) \n",
    "                             and base.index(x)<=base.index(stop)]\n",
    "\n",
    "model_subs_list=[str(x) for x in set(reduce(lambda x,y:x+y,model_subs.values())+model_subs.keys()+[':'])]\n",
    "model_subs_list='|'.join(model_subs_list)"
   ]
  },
  {
   "cell_type": "code",
   "execution_count": 50,
   "metadata": {
    "collapsed": false
   },
   "outputs": [],
   "source": [
    "model_list=[str(x) for x in set(reduce(lambda x,y:x+y,model_subs.values())+model_subs.keys())]\n",
    "[model_list.append(re.findall(r'[A-Z]+ +([^=\\(]+)[=\\(]',x)[0]) for x in model_vars]\n",
    "[model_list.append(x) for x in functiondic.keys()]\n",
    "model_list=[x.lower() for x in model_list]\n",
    "model_list=set(model_list)"
   ]
  },
  {
   "cell_type": "code",
   "execution_count": 51,
   "metadata": {
    "collapsed": false
   },
   "outputs": [],
   "source": [
    "def cleanup(function,compareset):\n",
    "    number=r'[e\\d]+'\n",
    "    func=''.join(function)\n",
    "    for variable in re.split(r'[^\\w ]+',func.split(' ',1)[-1].strip()):\n",
    "        variable=variable.strip().lower()\n",
    "        if len(function)>1 and variable:\n",
    "            if re.match(r'\\(\\W+\\)',function[-1]) \\\n",
    "            or variable not in compareset \\\n",
    "            and not re.match(number,variable) \\\n",
    "            and not re.search('if|then|else',variable):\n",
    "                return cleanup(function[:-1],compareset)\n",
    "    return func"
   ]
  },
  {
   "cell_type": "code",
   "execution_count": 52,
   "metadata": {
    "collapsed": false
   },
   "outputs": [],
   "source": [
    "# %%prun\n",
    "classify={'C':'constants','A':'auxiliaries','T':'tables','R':'rates',\n",
    "          'L':'levels','N':'initials','SPEC':'specs'}\n",
    "\n",
    "model=[x.strip().split('\\n     ') for x in model_vars] #OR MAYBE {6}\n",
    "model=[cleanup(x,model_list) for x in model]\n",
    "model=[re.sub(r'(\\()([\\w ]+,)*(\\*)(,[\\w ]+)*(\\))',r'\\1\\2:\\4\\5',x) for x in model]\n",
    "model=[re.sub(r'(?i)\\(((%s)(,(%s))*)\\)'%(model_subs_list,model_subs_list),r'[\\1]',x) for x in model]\n",
    "model=[if_then_else(x) for x in model]\n",
    "model=[re.sub(r'([\\w ]+\\=)([\\w ]+\\+ *DT *\\*)(\\(.*\\))',r'\\1INTEG\\3',x) for x in model]\n",
    "datadictionary={classify[x]:[y.split(' ',1)[-1].strip() for y in model \n",
    "                             if re.match('\\w+',y).group()==x] \n",
    "                for x in set(classify.keys())}\n",
    "# model=[x.split(' ',1)[-1].strip() for x in model]"
   ]
  },
  {
   "cell_type": "code",
   "execution_count": 42,
   "metadata": {
    "collapsed": false
   },
   "outputs": [
    {
     "data": {
      "text/plain": [
       "'sum(Retention Costs(:)) '"
      ]
     },
     "execution_count": 42,
     "metadata": {},
     "output_type": "execute_result"
    }
   ],
   "source": [
    "x='sum(Retention Costs(*)) '\n",
    "re.sub(r'(\\()([\\w ]+,)*(\\*)(,[\\w ]+)*(\\))',r'\\1\\2:\\4\\5',x)"
   ]
  },
  {
   "cell_type": "code",
   "execution_count": 53,
   "metadata": {
    "collapsed": false
   },
   "outputs": [],
   "source": [
    "components=['kind','real_name','subs','expr']\n",
    "entries=[dict(zip(components,list(re.match(r'(\\w+) +([\\w ]+)\\[?(.*?)\\]?\\=(.*)',x).groups()))) for x in model]\n",
    "for x in entries:\n",
    "    x.update({'subs':filter(None,x['subs'].split(','))})"
   ]
  },
  {
   "cell_type": "code",
   "execution_count": 54,
   "metadata": {
    "collapsed": false
   },
   "outputs": [],
   "source": [
    "namespace = {'TIME': 'time', 'Time': 'time'}  # Initialize with builtins\n",
    "for element in entries:\n",
    "    if element['kind'] not in ['T', 'FOR']:\n",
    "        element['py_name'], namespace = utils.make_python_identifier(element['real_name'],\n",
    "                                                                     namespace)"
   ]
  },
  {
   "cell_type": "code",
   "execution_count": 57,
   "metadata": {
    "collapsed": false
   },
   "outputs": [
    {
     "ename": "ParseError",
     "evalue": "Rule 'sub_element' didn't match at ':]) ' (line 1, column 21).",
     "output_type": "error",
     "traceback": [
      "\u001b[1;31m---------------------------------------------------------------------------\u001b[0m",
      "\u001b[1;31mParseError\u001b[0m                                Traceback (most recent call last)",
      "\u001b[1;32m<ipython-input-57-b2945dac7231>\u001b[0m in \u001b[0;36m<module>\u001b[1;34m()\u001b[0m\n\u001b[1;32m----> 1\u001b[1;33m \u001b[0mparse_general_expression\u001b[0m\u001b[1;33m(\u001b[0m\u001b[0mentries\u001b[0m\u001b[1;33m[\u001b[0m\u001b[1;36m19\u001b[0m\u001b[1;33m]\u001b[0m\u001b[1;33m,\u001b[0m\u001b[0mnamespace\u001b[0m\u001b[1;33m,\u001b[0m\u001b[0mmodel_subs\u001b[0m\u001b[1;33m)\u001b[0m\u001b[1;33m\u001b[0m\u001b[0m\n\u001b[0m\u001b[0;32m      2\u001b[0m \u001b[1;31m# entries[19]\u001b[0m\u001b[1;33m\u001b[0m\u001b[1;33m\u001b[0m\u001b[0m\n",
      "\u001b[1;32m<ipython-input-14-c2d7764b0376>\u001b[0m in \u001b[0;36mparse_general_expression\u001b[1;34m(element, namespace, subscript_dict)\u001b[0m\n\u001b[0;32m    138\u001b[0m \u001b[1;33m\u001b[0m\u001b[0m\n\u001b[0;32m    139\u001b[0m     \u001b[0mparser\u001b[0m \u001b[1;33m=\u001b[0m \u001b[0mparsimonious\u001b[0m\u001b[1;33m.\u001b[0m\u001b[0mGrammar\u001b[0m\u001b[1;33m(\u001b[0m\u001b[0mexpression_grammar\u001b[0m\u001b[1;33m)\u001b[0m\u001b[1;33m\u001b[0m\u001b[0m\n\u001b[1;32m--> 140\u001b[1;33m     \u001b[0mtree\u001b[0m \u001b[1;33m=\u001b[0m \u001b[0mparser\u001b[0m\u001b[1;33m.\u001b[0m\u001b[0mparse\u001b[0m\u001b[1;33m(\u001b[0m\u001b[0melement\u001b[0m\u001b[1;33m[\u001b[0m\u001b[1;34m'expr'\u001b[0m\u001b[1;33m]\u001b[0m\u001b[1;33m)\u001b[0m\u001b[1;33m\u001b[0m\u001b[0m\n\u001b[0m\u001b[0;32m    141\u001b[0m \u001b[1;33m\u001b[0m\u001b[0m\n\u001b[0;32m    142\u001b[0m     \u001b[1;32mclass\u001b[0m \u001b[0mExpressionParser\u001b[0m\u001b[1;33m(\u001b[0m\u001b[0mparsimonious\u001b[0m\u001b[1;33m.\u001b[0m\u001b[0mNodeVisitor\u001b[0m\u001b[1;33m)\u001b[0m\u001b[1;33m:\u001b[0m\u001b[1;33m\u001b[0m\u001b[0m\n",
      "\u001b[1;32mC:\\Users\\BOSMY\\AppData\\Local\\Continuum\\Anaconda\\lib\\site-packages\\parsimonious\\grammar.pyc\u001b[0m in \u001b[0;36mparse\u001b[1;34m(self, text, pos)\u001b[0m\n\u001b[0;32m    110\u001b[0m         \"\"\"\n\u001b[0;32m    111\u001b[0m         \u001b[0mself\u001b[0m\u001b[1;33m.\u001b[0m\u001b[0m_check_default_rule\u001b[0m\u001b[1;33m(\u001b[0m\u001b[1;33m)\u001b[0m\u001b[1;33m\u001b[0m\u001b[0m\n\u001b[1;32m--> 112\u001b[1;33m         \u001b[1;32mreturn\u001b[0m \u001b[0mself\u001b[0m\u001b[1;33m.\u001b[0m\u001b[0mdefault_rule\u001b[0m\u001b[1;33m.\u001b[0m\u001b[0mparse\u001b[0m\u001b[1;33m(\u001b[0m\u001b[0mtext\u001b[0m\u001b[1;33m,\u001b[0m \u001b[0mpos\u001b[0m\u001b[1;33m=\u001b[0m\u001b[0mpos\u001b[0m\u001b[1;33m)\u001b[0m\u001b[1;33m\u001b[0m\u001b[0m\n\u001b[0m\u001b[0;32m    113\u001b[0m \u001b[1;33m\u001b[0m\u001b[0m\n\u001b[0;32m    114\u001b[0m     \u001b[1;32mdef\u001b[0m \u001b[0mmatch\u001b[0m\u001b[1;33m(\u001b[0m\u001b[0mself\u001b[0m\u001b[1;33m,\u001b[0m \u001b[0mtext\u001b[0m\u001b[1;33m,\u001b[0m \u001b[0mpos\u001b[0m\u001b[1;33m=\u001b[0m\u001b[1;36m0\u001b[0m\u001b[1;33m)\u001b[0m\u001b[1;33m:\u001b[0m\u001b[1;33m\u001b[0m\u001b[0m\n",
      "\u001b[1;32mC:\\Users\\BOSMY\\AppData\\Local\\Continuum\\Anaconda\\lib\\site-packages\\parsimonious\\expressions.pyc\u001b[0m in \u001b[0;36mparse\u001b[1;34m(self, text, pos)\u001b[0m\n\u001b[0;32m    105\u001b[0m \u001b[1;33m\u001b[0m\u001b[0m\n\u001b[0;32m    106\u001b[0m         \"\"\"\n\u001b[1;32m--> 107\u001b[1;33m         \u001b[0mnode\u001b[0m \u001b[1;33m=\u001b[0m \u001b[0mself\u001b[0m\u001b[1;33m.\u001b[0m\u001b[0mmatch\u001b[0m\u001b[1;33m(\u001b[0m\u001b[0mtext\u001b[0m\u001b[1;33m,\u001b[0m \u001b[0mpos\u001b[0m\u001b[1;33m=\u001b[0m\u001b[0mpos\u001b[0m\u001b[1;33m)\u001b[0m\u001b[1;33m\u001b[0m\u001b[0m\n\u001b[0m\u001b[0;32m    108\u001b[0m         \u001b[1;32mif\u001b[0m \u001b[0mnode\u001b[0m\u001b[1;33m.\u001b[0m\u001b[0mend\u001b[0m \u001b[1;33m<\u001b[0m \u001b[0mlen\u001b[0m\u001b[1;33m(\u001b[0m\u001b[0mtext\u001b[0m\u001b[1;33m)\u001b[0m\u001b[1;33m:\u001b[0m\u001b[1;33m\u001b[0m\u001b[0m\n\u001b[0;32m    109\u001b[0m             \u001b[1;32mraise\u001b[0m \u001b[0mIncompleteParseError\u001b[0m\u001b[1;33m(\u001b[0m\u001b[0mtext\u001b[0m\u001b[1;33m,\u001b[0m \u001b[0mnode\u001b[0m\u001b[1;33m.\u001b[0m\u001b[0mend\u001b[0m\u001b[1;33m,\u001b[0m \u001b[0mself\u001b[0m\u001b[1;33m)\u001b[0m\u001b[1;33m\u001b[0m\u001b[0m\n",
      "\u001b[1;32mC:\\Users\\BOSMY\\AppData\\Local\\Continuum\\Anaconda\\lib\\site-packages\\parsimonious\\expressions.pyc\u001b[0m in \u001b[0;36mmatch\u001b[1;34m(self, text, pos)\u001b[0m\n\u001b[0;32m    122\u001b[0m         \u001b[0mnode\u001b[0m \u001b[1;33m=\u001b[0m \u001b[0mself\u001b[0m\u001b[1;33m.\u001b[0m\u001b[0mmatch_core\u001b[0m\u001b[1;33m(\u001b[0m\u001b[0mtext\u001b[0m\u001b[1;33m,\u001b[0m \u001b[0mpos\u001b[0m\u001b[1;33m,\u001b[0m \u001b[1;33m{\u001b[0m\u001b[1;33m}\u001b[0m\u001b[1;33m,\u001b[0m \u001b[0merror\u001b[0m\u001b[1;33m)\u001b[0m\u001b[1;33m\u001b[0m\u001b[0m\n\u001b[0;32m    123\u001b[0m         \u001b[1;32mif\u001b[0m \u001b[0mnode\u001b[0m \u001b[1;32mis\u001b[0m \u001b[0mNone\u001b[0m\u001b[1;33m:\u001b[0m\u001b[1;33m\u001b[0m\u001b[0m\n\u001b[1;32m--> 124\u001b[1;33m             \u001b[1;32mraise\u001b[0m \u001b[0merror\u001b[0m\u001b[1;33m\u001b[0m\u001b[0m\n\u001b[0m\u001b[0;32m    125\u001b[0m         \u001b[1;32mreturn\u001b[0m \u001b[0mnode\u001b[0m\u001b[1;33m\u001b[0m\u001b[0m\n\u001b[0;32m    126\u001b[0m \u001b[1;33m\u001b[0m\u001b[0m\n",
      "\u001b[1;31mParseError\u001b[0m: Rule 'sub_element' didn't match at ':]) ' (line 1, column 21)."
     ]
    }
   ],
   "source": [
    "parse_general_expression(entries[19],namespace,model_subs)\n",
    "# entries[19]"
   ]
  },
  {
   "cell_type": "code",
   "execution_count": 14,
   "metadata": {
    "collapsed": true
   },
   "outputs": [],
   "source": [
    "def parse_general_expression(element, namespace=None, subscript_dict=None):\n",
    "    \"\"\"\n",
    "    Parses a normal expression\n",
    "    # its annoying that we have to construct and compile the grammar every time...\n",
    "\n",
    "    Parameters\n",
    "    ----------\n",
    "    element: dictionary\n",
    "\n",
    "    namespace : dictionary\n",
    "\n",
    "    subscript_dict : dictionary\n",
    "\n",
    "\n",
    "    Returns\n",
    "    -------\n",
    "    translation\n",
    "\n",
    "    new_elements: list of dictionaries\n",
    "        If the expression contains builder functions, those builders will create new elements\n",
    "        to add to our running list (that will eventually be output to a file) such as stock\n",
    "        initialization and derivative funcs, etc.\n",
    "\n",
    "\n",
    "    Examples\n",
    "    --------\n",
    "    >>> parse_general_expression({'expr': 'INTEG (FlowA, -10)',\n",
    "    ...                           'py_name':'test_stock',\n",
    "    ...                           'subs':None},\n",
    "    ...                          {'FlowA': 'flowa'}),\n",
    "    ({'kind': 'component', 'py_expr': \"_state['test_stock']\"},\n",
    "     [{'kind': 'implicit',\n",
    "       'subs': None,\n",
    "       'doc': 'Provides initial conditions for test_stock function',\n",
    "       'py_name': 'init_test_stock',\n",
    "       'real_name': None,\n",
    "       'unit': 'See docs for test_stock',\n",
    "       'py_expr': '-10'},\n",
    "      {'py_name': 'dtest_stock_dt',\n",
    "       'kind': 'implicit',\n",
    "       'py_expr': 'flowa',\n",
    "       'real_name': None}])\n",
    "\n",
    "    \"\"\"\n",
    "    if namespace is None:\n",
    "        namespace = {}\n",
    "    if subscript_dict is None:\n",
    "        subscript_dict = {}\n",
    "\n",
    "    functions = functiondic\n",
    "\n",
    "    builders = {\n",
    "        \"integ\": lambda expr, init: builder.add_stock(element['py_name'], element['subs'],\n",
    "                                                      expr, init, subscript_dict),\n",
    "        \"delay1\": lambda in_var, dtime: builder.add_n_delay(in_var, dtime, '0', '1',\n",
    "                                                            element['subs'], subscript_dict),\n",
    "        \"delay1i\": lambda in_var, dtime, init: builder.add_n_delay(in_var, dtime, init, '1',\n",
    "                                                                   element['subs'], subscript_dict),\n",
    "        \"delay3\": lambda in_var, dtime: builder.add_n_delay(in_var, dtime, '0', '3',\n",
    "                                                            element['subs'], subscript_dict),\n",
    "        \"delay3i\": lambda in_var, dtime, init: builder.add_n_delay(in_var, dtime, init, '3',\n",
    "                                                                   element['subs'], subscript_dict),\n",
    "        \"delay n\": lambda in_var, dtime, init, order: builder.add_n_delay(in_var, dtime,\n",
    "                                                                          init, order,\n",
    "                                                                          element['subs'],\n",
    "                                                                          subscript_dict),\n",
    "        \"smooth\": lambda in_var, dtime: builder.add_n_smooth(in_var, dtime, '0', '1',\n",
    "                                                             element['subs'], subscript_dict),\n",
    "        \"smoothi\": lambda in_var, dtime, init: builder.add_n_smooth(in_var, dtime, init, '1',\n",
    "                                                                    element['subs'],\n",
    "                                                                    subscript_dict),\n",
    "        \"smooth3\": lambda in_var, dtime: builder.add_n_smooth(in_var, dtime, '0', '3',\n",
    "                                                              element['subs'], subscript_dict),\n",
    "        \"smooth3i\": lambda in_var, dtime, init: builder.add_n_smooth(in_var, dtime, init, '3',\n",
    "                                                                     element['subs'],\n",
    "                                                                     subscript_dict),\n",
    "        \"smooth n\": lambda in_var, dtime, init, order: builder.add_n_smooth(in_var, dtime,\n",
    "                                                                            init, order,\n",
    "                                                                            element['subs'],\n",
    "                                                                            subscript_dict),\n",
    "        \"initial\": lambda initial_input: builder.add_initial(initial_input)\n",
    "    }\n",
    "\n",
    "    in_ops = {\n",
    "        \"+\": \"+\", \"-\": \"-\", \"*\": \"*\", \"/\": \"/\", \"^\": \"**\", \"=\": \"==\", \"<=\": \"<=\", \"<>\": \"!=\",\n",
    "        \"<\": \"<\", \">=\": \">=\", \">\": \">\",\n",
    "        \":and:\": \" and \", \":or:\": \" or \"}  # spaces important for word-based operators\n",
    "\n",
    "    pre_ops = {\n",
    "        \"-\": \"-\", \":not:\": \" not \",  # spaces important for word-based operators\n",
    "        \"+\": \" \"  # space is important, so that and empty string doesn't slip through generic\n",
    "    }\n",
    "\n",
    "    # in the following, if lists are empty use non-printable character\n",
    "    # everything needs to be escaped before going into the grammar, in case it includes quotes\n",
    "    sub_names_list = [re.escape(x) for x in subscript_dict.keys()] or ['\\\\a']\n",
    "    sub_elems_list = [re.escape(y) for x in subscript_dict.values() for y in x] or ['\\\\a']\n",
    "    ids_list = [re.escape(x) for x in namespace.keys()] or ['\\\\a']\n",
    "    in_ops_list = [re.escape(x) for x in in_ops.keys()]\n",
    "    pre_ops_list = [re.escape(x) for x in pre_ops.keys()]\n",
    "\n",
    "    expression_grammar = r\"\"\"\n",
    "    expr_type = array / expr\n",
    "    expr = _ pre_oper? _ (lookup_def / build_call / call / parens / number / reference) _ (in_oper _ expr)?\n",
    "\n",
    "    lookup_def = ~r\"(WITH\\ LOOKUP)\"I _ \"(\" _ reference _ \",\" _ \"(\" _  (\"[\" ~r\"[^\\]]*\" \"]\" _ \",\")?  ( \"(\" _ expr _ \",\" _ expr _ \")\" \",\"? _ )+ _ \")\" _ \")\"\n",
    "    call = (func / id) _ \"(\" _ (expr _ \",\"? _)* \")\" # allows calls with no arguments\n",
    "    build_call = builder _ \"(\" _ (expr _ \",\"? _)* \")\" # allows calls with no arguments\n",
    "    parens   = \"(\" _ expr _ \")\"\n",
    "\n",
    "    reference = id _ subscript_list?\n",
    "    subscript_list = \"[\" _ ((sub_name / sub_element) _ \",\"? _)+ \"]\"\n",
    "\n",
    "    array = (number _ (\",\" / \";\")? _)+ !~r\".\"  # negative lookahead for anything other than an array\n",
    "    number = ~r\"\\d+\\.?\\d*(e[+-]\\d+)?\"\n",
    "\n",
    "    id = ~r\"(%(ids)s)\"I\n",
    "    sub_name = ~r\"(%(sub_names)s)\"I  # subscript names (if none, use non-printable character)\n",
    "    sub_element = ~r\"(%(sub_elems)s)\"I  # subscript elements (if none, use non-printable character)\n",
    "\n",
    "    func = ~r\"(%(funcs)s)\"I  # functions (case insensitive)\n",
    "    in_oper = ~r\"(%(in_ops)s)\"I  # infix operators (case insensitive)\n",
    "    pre_oper = ~r\"(%(pre_ops)s)\"I  # prefix operators (case insensitive)\n",
    "    builder = ~r\"(%(builders)s)\"I  # builder functions (case insensitive)\n",
    "\n",
    "    _ = ~r\"[\\s\\\\]*\"  # whitespace character\n",
    "    \"\"\" % {\n",
    "        # In the following, we have to sort keywords in decreasing order of length so that the\n",
    "        # peg parser doesn't quit early when finding a partial keyword\n",
    "        'sub_names': '|'.join(reversed(sorted(sub_names_list, key=len))),\n",
    "        'sub_elems': '|'.join(reversed(sorted(sub_elems_list, key=len))),\n",
    "        'ids': '|'.join(reversed(sorted(ids_list, key=len))),\n",
    "        'funcs': '|'.join(reversed(sorted(functions.keys(), key=len))),\n",
    "        'in_ops': '|'.join(reversed(sorted(in_ops_list, key=len))),\n",
    "        'pre_ops': '|'.join(reversed(sorted(pre_ops_list, key=len))),\n",
    "        'builders': '|'.join(reversed(sorted(builders.keys(), key=len))),\n",
    "    }\n",
    "\n",
    "    parser = parsimonious.Grammar(expression_grammar)\n",
    "    tree = parser.parse(element['expr'])\n",
    "\n",
    "    class ExpressionParser(parsimonious.NodeVisitor):\n",
    "        # Todo: at some point, we could make the 'kind' identification recursive on expression,\n",
    "        # so that if an expression is passed into a builder function, the information\n",
    "        # about whether it is a constant, or calls another function, goes with it.\n",
    "        def __init__(self, ast):\n",
    "            self.translation = \"\"\n",
    "            self.kind = 'constant'  # change if we reference anything else\n",
    "            self.new_structure = []\n",
    "            self.visit(ast)\n",
    "\n",
    "        def visit_expr_type(self, n, vc):\n",
    "            s = ''.join(filter(None, vc)).strip()\n",
    "            self.translation = s\n",
    "\n",
    "        def visit_expr(self, n, vc):\n",
    "            s = ''.join(filter(None, vc)).strip()\n",
    "            self.translation = s\n",
    "            return s\n",
    "\n",
    "        def visit_func(self, n, vc):\n",
    "            self.kind = 'component'\n",
    "            return functions[n.text.lower()]\n",
    "\n",
    "        def visit_in_oper(self, n, vc):\n",
    "            return in_ops[n.text.lower()]\n",
    "\n",
    "        def visit_pre_oper(self, n, vc):\n",
    "            return pre_ops[n.text.lower()]\n",
    "\n",
    "        def visit_reference(self, n, vc):\n",
    "            self.kind = 'component'\n",
    "            id_str = vc[0]\n",
    "            return id_str + '()'\n",
    "\n",
    "        def visit_id(self, n, vc):\n",
    "            return namespace[n.text]\n",
    "\n",
    "        def visit_lookup_def(self, n, vc):\n",
    "            \"\"\" This exists because vensim has multiple ways of doing lookups.\n",
    "            Which is frustrating.\"\"\"\n",
    "            x_val = vc[4]\n",
    "            pairs = vc[11]\n",
    "            mixed_list = pairs.replace('(', '').replace(')', '').split(',')\n",
    "            xs = mixed_list[::2]\n",
    "            ys = mixed_list[1::2]\n",
    "            string = \"functions.lookup(%(x)s, [%(xs)s], [%(ys)s])\" % {\n",
    "                'x': x_val,\n",
    "                'xs': ','.join(xs),\n",
    "                'ys': ','.join(ys)\n",
    "            }\n",
    "            return string\n",
    "\n",
    "        def visit_array(self, n, vc):\n",
    "            if 'subs' in element and element['subs']:  # first test handles when subs is not defined\n",
    "                coords = utils.make_coord_dict(element['subs'], subscript_dict, terse=False)\n",
    "                dims = [utils.find_subscript_name(subscript_dict, sub) for sub in element['subs']]\n",
    "                shape = [len(coords[dim]) for dim in dims]\n",
    "                if ';' in n.text or ',' in n.text:\n",
    "                    text = n.text.strip(';').replace(' ', '').replace(';', ',')\n",
    "                    data = np.array([float(s) for s in text.split(',')]).reshape(shape)\n",
    "                else:\n",
    "                    data = np.tile(float(n.text), shape)\n",
    "                datastr = np.array2string(data, separator=',').replace('\\n', '').replace(' ', '')\n",
    "                return textwrap.dedent(\"\"\"\\\n",
    "                    xr.DataArray(data=%(datastr)s,\n",
    "                                 coords=%(coords)s,\n",
    "                                 dims=%(dims)s )\"\"\" % {\n",
    "                    'datastr': datastr,\n",
    "                    'coords': repr(coords),\n",
    "                    'dims': repr(dims)})\n",
    "\n",
    "            else:\n",
    "                return n.text.replace(' ', '')\n",
    "\n",
    "        def visit_subscript_list(self, n, vc):\n",
    "            refs = vc[2]\n",
    "            subs = [x.strip() for x in refs.split(',')]\n",
    "            coordinates = utils.make_coord_dict(subs, subscript_dict)\n",
    "            if len(coordinates):\n",
    "                return '.loc[%s]' % repr(coordinates)\n",
    "            else:\n",
    "                return ' '\n",
    "\n",
    "        def visit_build_call(self, n, vc):\n",
    "            call = vc[0]\n",
    "            args = vc[4]\n",
    "            self.kind = 'component'\n",
    "            arglist = [x.strip() for x in args.split(',')]\n",
    "            name, structure = builders[call.strip().lower()](*arglist)\n",
    "            self.new_structure += structure\n",
    "            return name\n",
    "\n",
    "        def visit__(self, n, vc):\n",
    "            \"\"\" Handles whitespace characters\"\"\"\n",
    "            return ''\n",
    "\n",
    "        def generic_visit(self, n, vc):\n",
    "            return ''.join(filter(None, vc)) or n.text\n",
    "\n",
    "    parse_object = ExpressionParser(tree)\n",
    "\n",
    "    return ({'py_expr': parse_object.translation,\n",
    "             'kind': parse_object.kind,\n",
    "             'arguments': ''},\n",
    "            parse_object.new_structure)"
   ]
  },
  {
   "cell_type": "code",
   "execution_count": 43,
   "metadata": {
    "collapsed": false
   },
   "outputs": [
    {
     "data": {
      "text/plain": [
       "s = 'Total Costs '\n",
       "Node('expr_type', s, 0, 12, children=[Node('expr', s, 0, 12, children=[RegexNode('_', s, 0, 0), Node('', s, 0, 0), RegexNode('_', s, 0, 0), Node('', s, 0, 12, children=[Node('reference', s, 0, 12, children=[RegexNode('id', s, 0, 11), RegexNode('_', s, 11, 12), Node('', s, 12, 12)])]), RegexNode('_', s, 12, 12), Node('', s, 12, 12)])])"
      ]
     },
     "execution_count": 43,
     "metadata": {},
     "output_type": "execute_result"
    }
   ],
   "source": [
    "tree"
   ]
  }
 ],
 "metadata": {
  "kernelspec": {
   "display_name": "Python 2",
   "language": "python",
   "name": "python2"
  },
  "language_info": {
   "codemirror_mode": {
    "name": "ipython",
    "version": 2
   },
   "file_extension": ".py",
   "mimetype": "text/x-python",
   "name": "python",
   "nbconvert_exporter": "python",
   "pygments_lexer": "ipython2",
   "version": "2.7.10"
  }
 },
 "nbformat": 4,
 "nbformat_minor": 0
}
