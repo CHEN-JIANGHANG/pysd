{
 "cells": [
  {
   "cell_type": "code",
   "execution_count": 1,
   "metadata": {
    "collapsed": false
   },
   "outputs": [],
   "source": [
    "import numpy as np\n",
    "import regex as re\n",
    "import textwrap\n",
    "import parsimonious\n",
    "from pysd import builder\n",
    "from pysd import utils"
   ]
  },
  {
   "cell_type": "code",
   "execution_count": 2,
   "metadata": {
    "collapsed": false
   },
   "outputs": [],
   "source": [
    "with open('tests/jitia/STAMPS MPOT v32g.dyn','rU') as in_file:\n",
    "    text=in_file.read()\n",
    "text=re.sub(r'(?i)MACRO[\\s\\S]*MEND','',text)\n",
    "text=re.sub(r'\\*+ {2}Group.*','',text)"
   ]
  },
  {
   "cell_type": "code",
   "execution_count": 3,
   "metadata": {
    "collapsed": false
   },
   "outputs": [],
   "source": [
    "def if_then_else(text):\n",
    "    try:\n",
    "        valuetounpack=re.findall('(?i)((\\W|if|then|else) *)(if.*?then.*?else.*?)(then|else|$)',\n",
    "                                 text,overlapped=True)[-1][2]\n",
    "        unpacked=filter(None,[x.strip() for x in re.split(r'(?i)then|else',valuetounpack[2:])])\n",
    "        text=text.replace(valuetounpack,'_conditional(%s)'%','.join(unpacked))\n",
    "        return if_then_else(text)\n",
    "    except:\n",
    "        return text    "
   ]
  },
  {
   "cell_type": "code",
   "execution_count": 96,
   "metadata": {
    "collapsed": true
   },
   "outputs": [],
   "source": [
    "functiondic={'MAX':'np.maximum','MIN':'np.minimum','SUM':'np.sum','if_then_else':'np.where',\n",
    "             'SUMV':'functions.sumv','ABS':'abs', 'INTEGER':'int','EXP':'np.exp','PI':'np.pi', \n",
    "             'SIN':'np.sin', 'COS':'np.cos','SQRT':'np.sqrt', 'TAN':'np.tan', 'LOGN':'np.random.lognormal',\n",
    "             'RANDOM NORMAL':'functions.bounded_normal','POISSON':'np.random.poisson','LN':'np.log', \n",
    "             'EXPRND':'np.random.exponential','RANDOM UNIFORM':'np.random.rand','ARCCOS':'np.arccos',\n",
    "             'ARCSIN':'np.arcsin','ARCTAN':'np.arctan','STEP':'functions.step', 'MODULO':'np.mod', \n",
    "             'PULSE':'functions.pulse', 'PULSE TRAIN':'functions.pulse_train','RAMP':'functions.ramp', \n",
    "             'FIFZE':'functions.fifze', 'FIFGE':'functions.fifge','SCLPRD':'functions.sclprd', \n",
    "             'PRDV':'functions.prdv','SMOOTH3I':'smooth3i','SMOOTH3':'smooth3','SMOOTHI':'smoothi',\n",
    "             'SMOOTH':'smooth','LOGN':'np.log', 'ROUND':'np.round','DELAY3I':'delay3i','DELAY3':'delay3',\n",
    "             'DELAY1I':'delayi','DELAY1':'delay','DELAYI':'delayi','DELAY':'delay','FLOOR':'np.floor',\n",
    "             'VECTORMIN':'np.min','VECTORMAX':'np.max','PROD':'np.prod','TABHL':'functions.tabhl',\n",
    "             'POS':'pos','TUNE1':'tune1','_conditional':'np.where'\n",
    "            }\n",
    "functiondic={x.lower():functiondic[x].lower() for x in functiondic.keys()}"
   ]
  },
  {
   "cell_type": "code",
   "execution_count": 97,
   "metadata": {
    "collapsed": false
   },
   "outputs": [],
   "source": [
    "model_all=[x[0] for x in re.findall(r'([A-Z]+ +.+(\\n {5}.+)*)',text)]\n",
    "model_vars=[x for x in model_all if re.match('(C|A|T|R|L|N|SPEC)\\s',x)]\n",
    "\n",
    "#Subscripts\n",
    "model_subs=[re.sub(r'\\n\\s{5}','',x[5:]) for x in model_all if x.startswith('FOR')]\n",
    "model_subs={x.split('=',1)[0]:x.split('=',1)[-1].split(',') for x in model_subs}\n",
    "for key,value in model_subs.iteritems():\n",
    "    if len(value)==1 and re.search('-',value[0]):\n",
    "        value=value[0]\n",
    "        if not re.search(r'[a-zA-Z]',value):\n",
    "            start=int(value.split('-')[0])\n",
    "            stop=int(value.split('-')[-1])+1\n",
    "            model_subs[key]=[str(x) for x in range(start,stop)]\n",
    "        else:\n",
    "            start=value.split('-')[0]\n",
    "            stop=value.split('-')[-1]\n",
    "            base=[x for x,y in model_subs.iteritems() if x!=key and start in y and stop in y]\n",
    "            base=model_subs[base[0]]\n",
    "            model_subs[key]=[x for x in base if base.index(x)>=base.index(start) \n",
    "                             and base.index(x)<=base.index(stop)]\n",
    "\n",
    "model_subs_list=[str(x) for x in set(reduce(lambda x,y:x+y,model_subs.values())+\n",
    "                                     model_subs.keys()+['\\*'])]\n",
    "model_subs_list='|'.join(model_subs_list)"
   ]
  },
  {
   "cell_type": "code",
   "execution_count": 98,
   "metadata": {
    "collapsed": false
   },
   "outputs": [],
   "source": [
    "model_list=[str(x) for x in set(reduce(lambda x,y:x+y,model_subs.values())+model_subs.keys())]\n",
    "[model_list.append(re.findall(r'[A-Z]+ +([^=\\(]+)[=\\(]',x)[0]) for x in model_vars]\n",
    "[model_list.append(x) for x in functiondic.keys()]\n",
    "model_list=[x.lower() for x in model_list]\n",
    "model_list=set(model_list)"
   ]
  },
  {
   "cell_type": "code",
   "execution_count": 99,
   "metadata": {
    "collapsed": false
   },
   "outputs": [],
   "source": [
    "def cleanup(function,compareset):\n",
    "    number=r'[e\\d]+'\n",
    "    func=''.join(function)\n",
    "    for variable in re.split(r'[^\\w ]+',func.split(' ',1)[-1].strip()):\n",
    "        variable=variable.strip().lower()\n",
    "        if len(function)>1 and variable:\n",
    "            if re.match(r'\\(\\W+\\)',function[-1]) \\\n",
    "            or variable not in compareset \\\n",
    "            and not re.match(number,variable) \\\n",
    "            and not re.search('if|then|else|and|or',variable):\n",
    "                return cleanup(function[:-1],compareset)\n",
    "    func=func.replace('MISSING()','0')\n",
    "    return func"
   ]
  },
  {
   "cell_type": "code",
   "execution_count": 100,
   "metadata": {
    "collapsed": false
   },
   "outputs": [],
   "source": [
    "# %%prun\n",
    "classify={'C':'constants','A':'auxiliaries','T':'tables','R':'rates',\n",
    "          'L':'levels','N':'initials','SPEC':'specs'}\n",
    "\n",
    "model=[re.split('\\^?\\n {5}',x.strip()) for x in model_vars] #OR MAYBE {6}\n",
    "model=[cleanup(x,model_list) for x in model]\n",
    "model=[re.sub(r'(?i)\\(((%s)(,(%s))*)\\)'%(model_subs_list,model_subs_list),r'[\\1]',x) for x in model]\n",
    "model=[if_then_else(x) for x in model]\n",
    "# model=[re.sub(r'([\\w ]+\\=)([\\w ]+\\+ *DT *\\*)(\\(.*\\))',r'\\1INTEG\\3',x) for x in model]\n",
    "# model=[list(re.match(r'(\\w+) +([\\w ]+)\\[?(.*?)\\]?\\=(.*)',x).groups()) for x in model]"
   ]
  },
  {
   "cell_type": "code",
   "execution_count": 17,
   "metadata": {
    "collapsed": false
   },
   "outputs": [],
   "source": [
    "# reform=set([x[1] for x in model])\n",
    "# datadictionary={x:{'kind':'','expr':[],'init':[]} for x in reform}\n",
    "# for kind,name,sub,expr in model:\n",
    "#     val='init' if kind=='N' else 'expr'\n",
    "#     datadictionary[name]['kind']=kind if not datadictionary[name]['kind'] else \\\n",
    "#     kind if kind!='N' else datadictionary[name]['kind']\n",
    "#     datadictionary[name][val].append((expr,sub))"
   ]
  },
  {
   "cell_type": "code",
   "execution_count": 126,
   "metadata": {
    "collapsed": false
   },
   "outputs": [],
   "source": [
    "components=['kind','real_name','subs','expr']\n",
    "entries=[dict(zip(components,list(re.match(r'(\\w+) +([\\w ]+)\\[?(.*?)\\]?\\=(.*)',x).groups()))) for x in model]\n",
    "tables=[x['real_name'] for x in entries if x['kind']=='T']\n",
    "# for x in entries:\n",
    "#     x.update({'subs':filter(None,x['subs'].split(','))})"
   ]
  },
  {
   "cell_type": "code",
   "execution_count": 127,
   "metadata": {
    "collapsed": false
   },
   "outputs": [],
   "source": [
    "namespace = {'TIME': 'time', 'Time': 'time'}  # Initialize with builtins\n",
    "for element in entries:\n",
    "    if element['kind'] not in ['FOR']:\n",
    "        element['py_name'], namespace = utils.make_python_identifier(element['real_name'],\n",
    "                                                                     namespace)"
   ]
  },
  {
   "cell_type": "code",
   "execution_count": 128,
   "metadata": {
    "collapsed": false
   },
   "outputs": [],
   "source": [
    "for pos,elements in enumerate(entries):\n",
    "    entries[pos]['expr']=re.sub('(\\w[\\w ]*)',\n",
    "                                lambda s:\n",
    "                                namespace[s.group(1).strip()]+'()' \n",
    "                                    if s.group(1).strip() in namespace \n",
    "                                        and s.group(1).strip() not in tables\n",
    "                                else functiondic[s.group(1).strip().lower()] \n",
    "                                    if s.group(1).strip().lower() in functiondic\n",
    "                                else namespace[s.group(1).strip()] \n",
    "                                    if s.group(1).strip() in tables \n",
    "                                else s.group(1),\n",
    "                                elements['expr'])\n",
    "    \n",
    "    if re.search(r'(if_then_else)|(np\\.where)',elements['expr']):\n",
    "        entries[pos]['expr']=re.sub(r'(?i)([\\w ]+) (and|or) ([\\w ]+)',\n",
    "                                    lambda s: '%s %s %s'\n",
    "                                    %(namespace[s.group(1).strip()]+'()'\n",
    "                                        if s.group(1).strip() in namespace\n",
    "                                    else s.group(1),\n",
    "                                    s.group(2).lower(),\n",
    "                                    namespace[s.group(3).strip()]+'()'\n",
    "                                        if s.group(3).strip() in namespace\n",
    "                                    else s.group(3)),\n",
    "                                    elements['expr'])"
   ]
  },
  {
   "cell_type": "code",
   "execution_count": 129,
   "metadata": {
    "collapsed": false
   },
   "outputs": [
    {
     "name": "stdout",
     "output_type": "stream",
     "text": [
      "{'expr': 'np.where(switch_to_initialize_recruiters_automatically()=0,initial_recruiters(),desired_recruiters())', 'kind': 'N', 'py_name': 'number_of_recruiters', 'subs': '', 'real_name': 'Number of Recruiters'}\n",
      "{'expr': 'np.where(switch_to_test_structure()=0,np.maximum(0,staffing_gap()/time_to_try_to_close_recruitment_gap()+expected_losses_to_make_up_via_recruiting()),test_desired_recruiting_rate())', 'kind': 'A', 'py_name': 'desired_recruits', 'subs': '', 'real_name': 'Desired Recruits'}\n",
      "{'expr': 'np.where(desired_change_in_recruiters()> 0,desired_change_in_recruiters()/time_to_hire_recruiting_staff(),0)', 'kind': 'A', 'py_name': 'recruiter_hiring_rate', 'subs': '', 'real_name': 'Recruiter Hiring Rate'}\n",
      "{'expr': 'np.where(desired_change_in_recruiters()< 0,np.minimum(number_of_recruiters(),-desired_change_in_recruiters())/time_to_layoff_recruiting_staff(),0)', 'kind': 'A', 'py_name': 'recruiter_layoff_rate', 'subs': '', 'real_name': 'Recruiter Layoff Rate'}\n",
      "{'expr': 'np.where(switch_for_recruiter_gap_impact_on_asvab_score()=0,1,smooth(effect_of_recruiter_gap_on_average_asvab_target(),time_to_smooth_recruiter_effect_on_asvab_target())*switch_for_recruiter_gap_impact_on_asvab_score())', 'kind': 'A', 'py_name': 'recent_effect_of_recruiter_gap_on_asvab_target', 'subs': '', 'real_name': 'Recent Effect of Recruiter Gap on ASVAB Target'}\n",
      "{'expr': 'np.where(number_of_enlistments_needed()> 0,enlistment_incentives_offered()/number_of_enlistments_needed(),0)', 'kind': 'A', 'py_name': 'enlistment_incentives_offered_per_person', 'subs': '', 'real_name': 'Enlistment Incentives Offered per Person'}\n",
      "{'expr': 'np.where(total_enlistment_bonuses_desired()> 0,np.minimum(1,max_enlistment_bonus_budget()/total_enlistment_bonuses_desired()),1)', 'kind': 'A', 'py_name': 'effect_of_funding_constraint_on_enlistment_bonuses', 'subs': '', 'real_name': 'Effect of Funding Constraint on Enlistment Bonuses'}\n",
      "{'expr': 'np.where(switch_for_constant_manning()=1,initial_planned_manning()[Ranks],np.where(switch_for_table_by_total()=0,data_based_input_to_target()[Ranks],target_for_total_strength()*planned_fraction_by_grade()[Ranks]/np.sum(planned_fraction_by_grade())))', 'kind': 'A', 'py_name': 'target_in_grade', 'subs': 'Ranks', 'real_name': 'Target in Grade'}\n",
      "{'expr': 'np.where(switch_to_consider_positives_only()=1,np.where(target_in_grade_gap_in_people()[Ranks] > 0,target_in_grade_gap_in_people()[Ranks],0),target_in_grade_gap_in_people()[Ranks])', 'kind': 'A', 'py_name': 'positive_target_in_grade_gap_in_people', 'subs': 'Ranks', 'real_name': 'Positive Target in Grade Gap in People'}\n",
      "{'expr': 'np.where(total_strength()> 0,total_of_positive_gaps_above_rank()[Ranks]/total_strength(),0)', 'kind': 'A', 'py_name': 'positive_gap_above_rank', 'subs': 'Ranks', 'real_name': 'Positive Gap above Rank'}\n",
      "{'expr': 'np.where(switch_to_use_actual_initial_manpower()[Ranks]=0,initial_manpower()[Ranks],initial_actual()[Ranks])', 'kind': 'A', 'py_name': 'initial_manpower_by_rank', 'subs': 'Ranks', 'real_name': 'Initial Manpower by rank'}\n",
      "{'expr': 'np.where(switch_to_initialize_a_school_with_rank2_data()=1,initial_actual()[Rank 2],input_initial_manpower_in_a_school())', 'kind': 'N', 'py_name': 'initial_manpower_in_a_school', 'subs': '', 'real_name': 'Initial Manpower In A School'}\n",
      "{'expr': 'np.where(switch_to_use_actual_for_plans()=1,target_for_total_strength_by_paygrade()[Ranks],plan_for_inventory_by_paygrade()[Ranks])', 'kind': 'A', 'py_name': 'data_based_input_to_target', 'subs': 'Ranks', 'real_name': 'Data Based Input to Target'}\n",
      "{'expr': 'np.where(time()>data_end(),0,functions.sumv(data_for_inventory_by_paygrade(),3,9))', 'kind': 'A', 'py_name': 'data_for_inventory_e3_to_e9', 'subs': '', 'real_name': 'Data for Inventory E3 to E9'}\n",
      "{'expr': 'np.where(promotion_rate_out_of_rank()[Ranks] >0,(manpower_in_fleet()[Ranks])/promotion_rate_out_of_rank()[Ranks],100000)', 'kind': 'A', 'py_name': 'promotion_time_experienced', 'subs': 'Ranks', 'real_name': 'Promotion Time Experienced'}\n",
      "{'expr': 'np.where(manpower_in_fleet()[Ranks]=0,0,np.where(average_time_in_grade()[Ranks]=0,0,np.minimum(desired_promotion_rate()[Ranks],maximum_promotion_rate()[Ranks])*weight_for_constraining_promotions()[Ranks]+(1-weight_for_constraining_promotions()[Ranks])*desired_promotion_rate()[Ranks]))', 'kind': 'R', 'py_name': 'promotion_rate_out_of_rank', 'subs': 'Ranks', 'real_name': 'Promotion Rate Out of Rank'}\n",
      "{'expr': 'np.where(actual_in_grade()[Ranks] > 0.1,(positive_gap_above_rank_in_people()[Ranks]+recent_losses_in_next_rank()[Ranks])/actual_in_grade()[Ranks],1)', 'kind': 'A', 'py_name': 'advancement_oppty', 'subs': 'Ranks', 'real_name': 'Advancement Oppty'}\n",
      "{'expr': 'np.where(number_of_reenlistments_needed()[Ranks] > 0,reenlistment_incentives_offered()[Ranks]/number_of_reenlistments_needed()[Ranks],0)', 'kind': 'A', 'py_name': 'reenlistment_incentives_offered_per_person', 'subs': 'Ranks', 'real_name': 'Reenlistment incentives offered per person'}\n",
      "{'expr': 'np.where(total_reenlistment_bonuses_desired()> 0,np.minimum(1,max_retention_budget()/total_reenlistment_bonuses_desired()),1)', 'kind': 'A', 'py_name': 'effect_of_funding_constraint_on_reenlistment_bonus', 'subs': '', 'real_name': 'Effect of Funding Constraint on Reenlistment bonus'}\n",
      "{'expr': 'np.where(manpower_in_fleet()[Ranks]=0,1,actual_promotion_time()[Ranks])', 'kind': 'A', 'py_name': 'average_time_in_grade', 'subs': 'Ranks', 'real_name': 'Average Time in Grade'}\n",
      "{'expr': 'np.where(time()<2006 or time()>2011,0,recruiters_data(time()))', 'kind': 'A', 'py_name': 'data_for_recruiters', 'subs': '', 'real_name': 'Data for Recruiters'}\n",
      "{'expr': 'np.where(time()>=2005 and time()<=2011,recruiter_productivity(time()),0)', 'kind': 'A', 'py_name': 'data_for_recruiters_hq_productivity', 'subs': '', 'real_name': 'Data for Recruiters HQ Productivity'}\n",
      "{'expr': 'np.where(time()>=2012 or time()<2005,0,total_nps_navy_contracts(time()))', 'kind': 'A', 'py_name': 'data_for_nps_navy_contracts', 'subs': '', 'real_name': 'Data for NPS Navy Contracts'}\n",
      "{'expr': 'np.where(time()>=2011.75 or time()<2007.75,0,average_navy_enlistement_bonus(time()))', 'kind': 'A', 'py_name': 'data_for_average_enlistment_bonus', 'subs': '', 'real_name': 'Data for Average Enlistment Bonus'}\n",
      "{'expr': 'np.where(time()>2015.75,0,recruiting_goal_table(time()))', 'kind': 'A', 'py_name': 'data_for_recruiting_goal', 'subs': '', 'real_name': 'Data for Recruiting Goal'}\n",
      "{'expr': 'np.where(time()>data_end(),0,np.sum(data_for_billet_by_paygrade()))', 'kind': 'A', 'py_name': 'data_for_total_billets', 'subs': '', 'real_name': 'Data for Total Billets'}\n",
      "{'expr': 'np.where(time()>data_end(),0,np.sum(data_for_inventory_by_paygrade()))', 'kind': 'A', 'py_name': 'data_for_inventory_totalled', 'subs': '', 'real_name': 'Data for Inventory Totalled'}\n",
      "{'expr': 'np.where(time()>data_end(),0,functions.sumv(data_for_epa_by_paygrade_3yrs_out(),3,9))', 'kind': 'A', 'py_name': 'epa_as_planned_e3_thu_e9', 'subs': '', 'real_name': 'EPA as Planned E3 thu E9'}\n",
      "{'expr': 'np.where(time()>data_end(),0,data_for_total_epa())', 'kind': 'A', 'py_name': 'data_for_total_epa_with_missing', 'subs': '', 'real_name': 'Data for Total EPA with MISSING'}\n",
      "{'expr': 'np.where(time()>data_end(),0,data_for_billet_by_paygrade()[Ranks])', 'kind': 'A', 'py_name': 'data_for_billet_by_paygrade_missing', 'subs': 'Ranks', 'real_name': 'Data for Billet by Paygrade MISSING'}\n",
      "{'expr': 'np.where(time()>data_end(),0,data_for_epa_by_paygrade()[Ranks])', 'kind': 'A', 'py_name': 'data_for_epa_by_paygrade_missing', 'subs': 'Ranks', 'real_name': 'Data for EPA by Paygrade MISSING'}\n",
      "{'expr': 'np.where(time()>data_end(),0,data_for_inventory_by_paygrade()[Ranks])', 'kind': 'A', 'py_name': 'data_for_inventory_by_paygrade_missing', 'subs': 'Ranks', 'real_name': 'Data for Inventory by Paygrade MISSING'}\n",
      "{'expr': 'np.where(time()>data_end(),0,np.sum(data_for_sea_inventory_by_rank_missing()))', 'kind': 'A', 'py_name': 'data_for_total_sea_inventory_missing', 'subs': '', 'real_name': 'Data for Total Sea Inventory MISSING'}\n",
      "{'expr': 'np.where(time()>data_end(),0,np.sum(data_for_sea_billets_by_rank()))', 'kind': 'A', 'py_name': 'data_for_total_sea_billets_missing', 'subs': '', 'real_name': 'Data for Total Sea Billets MISSING'}\n",
      "{'expr': 'np.where(time()>data_end(),0,data_for_student_billets_by_rank()[Ranks])', 'kind': 'A', 'py_name': 'data_for_student_billets_by_rank_missing', 'subs': 'Ranks', 'real_name': 'Data for Student Billets by Rank MISSING'}\n",
      "{'expr': 'np.where(time()>data_end(),0,data_for_sea_billets_by_rank()[Ranks])', 'kind': 'A', 'py_name': 'data_for_sea_billets_by_rank_missing', 'subs': 'Ranks', 'real_name': 'Data for Sea Billets by Rank MISSING'}\n",
      "{'expr': 'np.where(time()>data_end(),0,data_for_sea_inventory_by_rank()[Ranks])', 'kind': 'A', 'py_name': 'data_for_sea_inventory_by_rank_missing', 'subs': 'Ranks', 'real_name': 'Data for Sea Inventory by Rank MISSING'}\n",
      "{'expr': 'np.where(time()>data_end(),0,data_for_student_inventory_by_rank()[Ranks])', 'kind': 'A', 'py_name': 'data_for_student_inventory_by_rank_missing', 'subs': 'Ranks', 'real_name': 'Data for Student Inventory by Rank MISSING'}\n",
      "{'expr': 'np.where(time()>data_end(),0,np.sum(data_for_student_inventory_by_rank()))', 'kind': 'A', 'py_name': 'data_for_total_student_inventory', 'subs': '', 'real_name': 'Data for Total Student Inventory'}\n",
      "{'expr': 'np.where(time()>data_end(),0,data_table_for_shore_inventory_by_rank[Ranks](time()))', 'kind': 'A', 'py_name': 'data_for_shore_inventory_by_rank_missing', 'subs': 'Ranks', 'real_name': 'Data for Shore Inventory by Rank MISSING'}\n",
      "{'expr': 'np.where(time()>data_end(),0,data_table_for_shore_billets_by_rank[Ranks](time()))', 'kind': 'A', 'py_name': 'data_for_shore_billets_by_rank_missing', 'subs': 'Ranks', 'real_name': 'Data for Shore Billets by Rank MISSING'}\n",
      "{'expr': 'np.where(time()>data_end(),0,data_table_for_epa_by_rank[Ranks](time()))', 'kind': 'A', 'py_name': 'data_for_epa_by_rank_missing', 'subs': 'Ranks', 'real_name': 'Data for EPA by Rank MISSING'}\n",
      "{'expr': 'np.where(time()>data_end(),0,data_table_for_inv_by_rank[Ranks](time()))', 'kind': 'A', 'py_name': 'data_for_inventory_by_rank_missing', 'subs': 'Ranks', 'real_name': 'Data for Inventory by Rank MISSING'}\n",
      "{'expr': 'np.where(time()>data_end(),0,data_table_for_continuation_rate_by_los[LOS](time()))', 'kind': 'A', 'py_name': 'continuation_rate_by_los', 'subs': 'LOS', 'real_name': 'Continuation Rate by LOS'}\n",
      "{'expr': 'np.where(time()>data_end(),0,np.sum(losses_by_los_a()))', 'kind': 'A', 'py_name': 'data_for_losses', 'subs': '', 'real_name': 'Data for Losses'}\n",
      "{'expr': 'np.where(total_manpower_in_this_structure_by_rank()[Ranks]>0,total_sailors_in_any_c_school_by_rank()[Ranks]/total_manpower_in_this_structure_by_rank()[Ranks],0)', 'kind': 'A', 'py_name': 'fraction_of_manpower_in_c_school_by_rank', 'subs': 'Ranks', 'real_name': 'Fraction of Manpower in C School by Rank'}\n",
      "{'expr': 'np.where(switch_to_turn_off_facilities_constraints()=0,np.minimum(1,max_throughput_for_c_school()[NEC]/pos(total_backlog_desired_throughput()[NEC])),1)', 'kind': 'A', 'py_name': 'fraction_of_backlog_that_can_enter', 'subs': 'NEC', 'real_name': 'Fraction of Backlog that Can Enter'}\n",
      "{'expr': 'np.where(sailors_in_a_school()> 0,sailors_in_a_school()/a_school_duration(),0)', 'kind': 'R', 'py_name': 'graduates_from_a_school', 'subs': '', 'real_name': 'Graduates from A School'}\n",
      "{'expr': 'np.where(a_school_student_backlog()> 0,np.minimum(a_school_student_backlog()/(2*dt()),maximum_throughput_for_a_school()),0)', 'kind': 'R', 'py_name': 'entrants_to_a_school', 'subs': '', 'real_name': 'Entrants to A School'}\n",
      "{'expr': 'np.where(a_school_student_backlog()> 0.1,total_waiting_time_of_sailors()/a_school_student_backlog(),0)', 'kind': 'A', 'py_name': 'average_wait_time_for_a_school', 'subs': '', 'real_name': 'Average Wait Time for A School'}\n",
      "{'expr': 'np.where(sailors_in_a_school()> 0.1,total_training_time_of_sailors()/sailors_in_a_school(),0)', 'kind': 'A', 'py_name': 'average_time_for_a_school', 'subs': '', 'real_name': 'Average Time for A School'}\n",
      "{'expr': 'np.where(switch_for_all_grads_at_rank_3()=1,1,1-fraction_of_graduates_at_rank_2()-fraction_of_graduates_at_rank_1())', 'kind': 'A', 'py_name': 'fraction_of_graduates_at_rank_3', 'subs': '', 'real_name': 'Fraction of Graduates at Rank 3'}\n",
      "{'expr': 'np.where(switch_for_all_grads_at_rank_3()=1,0,effect_on_rank_2_graduates_of_promo_time(relative_time_in_school_vs_promotion_time()[Rank 2])*(1-fraction_of_graduates_at_rank_1()))', 'kind': 'A', 'py_name': 'fraction_of_graduates_at_rank_2', 'subs': '', 'real_name': 'Fraction of Graduates at Rank 2'}\n",
      "{'expr': 'np.where(switch_for_all_grads_at_rank_3()=1,0,effect_on_rank_1_graduates_of_promo_time(relative_time_in_school_vs_promotion_time()[Rank 1]))', 'kind': 'A', 'py_name': 'fraction_of_graduates_at_rank_1', 'subs': '', 'real_name': 'Fraction of Graduates at Rank 1'}\n",
      "{'expr': 'np.where(manpower_in_fleet()[Ranks] > 0,total_asvab_score_in_rank()[Ranks]/manpower_in_fleet()[Ranks],0)', 'kind': 'A', 'py_name': 'average_asvab_in_rank', 'subs': 'Ranks', 'real_name': 'Average ASVAB in Rank'}\n",
      "{'expr': 'np.where(manpower_in_fleet()[Ranks] > 0,total_skill_in_rank()[Ranks,CalcType]/manpower_in_fleet()[Ranks],0)', 'kind': 'A', 'py_name': 'average_skill_in_rank', 'subs': 'Ranks,CalcType', 'real_name': 'Average Skill in Rank'}\n",
      "{'expr': 'np.where(manpower_in_fleet()[Ranks] > 0,total_overall_skill_in_rank()[Ranks,CalcType]/manpower_in_fleet()[Ranks],0)', 'kind': 'A', 'py_name': 'avg_overall_experience_in_rank', 'subs': 'Ranks,CalcType', 'real_name': 'Avg Overall Experience in Rank'}\n",
      "{'expr': 'np.where(top_rank_for_promotions_out_of_rank_for_nec()[NEC]+1<=rank_position()[Ranks],0,1)', 'kind': 'A', 'py_name': 'promotion_switch_for_this_rank_nec', 'subs': 'Ranks,NEC', 'real_name': 'Promotion Switch for this Rank NEC'}\n",
      "{'expr': 'np.where(switch_to_constrain_promotions_by_rank()=1,constrained_peak_for_highest_rank_to_promote()[NEC],use_high_rank_for_proms_out_of_rank_in_nec()[NEC])', 'kind': 'A', 'py_name': 'top_rank_for_promotions_out_of_rank_for_nec', 'subs': 'NEC', 'real_name': 'Top Rank for Promotions out of Rank for NEC'}\n",
      "{'expr': 'np.where(test_switch_to_use_normal()=1,normal_fraction_at_rank_to_nec()[Ranks,NEC],np.where(desired_trainees_at_this_rank()[Ranks]>0,desired_trainees_at_this_nec_and_rank()[Ranks,NEC]/       pos(desired_trainees_at_this_rank()[Ranks]),normal_fraction_at_rank_to_nec()[Ranks,NEC]))', 'kind': 'A', 'py_name': 'fraction_of_trainees_at_rank_to_nec', 'subs': 'Ranks,NEC', 'real_name': 'Fraction of Trainees at Rank to NEC'}\n",
      "{'expr': 'np.where(switch_to_push_training_lower()=0,sea_billets_by_rank_and_nec()[Ranks,NEC]/sum_of_sea_billets_by_rank_and_nec()[Ranks],desired_number_of_necs_per_ship_for_training()[Ranks,NEC]/sum_of_desired_number_of_necs_per_ship_for_trainin()[Ranks])', 'kind': 'A', 'py_name': 'normal_fraction_at_rank_to_nec', 'subs': 'Ranks,NEC', 'real_name': 'Normal Fraction at Rank to NEC'}\n",
      "{'expr': 'np.where(force_positives()=1,np.maximum(0,current_gap_in_necs_by_rank()[Ranks,NEC]),current_gap_in_necs_by_rank()[Ranks,NEC])', 'kind': 'A', 'py_name': 'positive_gap_in_current_nec', 'subs': 'Ranks,NEC', 'real_name': 'Positive Gap in Current NEC'}\n",
      "{'expr': 'np.where(deployment_gap()[Ranks,NEC]>0,table_for_indicated_multiple(fractional_deployment_gap()[Ranks,NEC]),1)', 'kind': 'A', 'py_name': 'indicated_multiple_on_current_fraction', 'subs': 'Ranks,NEC', 'real_name': 'Indicated Multiple on Current Fraction'}\n",
      "{'expr': 'np.where(switch_to_deploy_all()=1,manpower_available_for_assignment_to_ships()[Ranks,NEC]/time_to_deploy_manpower(),np.maximum(0,np.minimum(manpower_available_for_assignment_to_ships()[Ranks,NEC]/time_to_deploy_manpower(),desired_gap_to_fill_in_this_rank()[Ranks,NEC]/time_to_close_deployment_gap())))', 'kind': 'A', 'py_name': 'desired_deployment_rate_by_rank_and_nec', 'subs': 'Ranks,NEC', 'real_name': 'Desired Deployment Rate by Rank and NEC'}\n",
      "{'expr': 'np.where(switch_to_deploy_all()=1,0,np.where(manpower_available_for_assignment_to_ships()[Ranks,NEC]>=desired_gap_to_fill_in_this_rank()[Ranks,NEC],manpower_available_for_assignment_to_ships()[Ranks,NEC]*fraction_of_gap_above_grade_to_deploy()[NEC],0))', 'kind': 'A', 'py_name': 'excess_manpower_available_for_deployment', 'subs': 'Ranks,NEC', 'real_name': 'Excess Manpower Available for Deployment'}\n",
      "{'expr': 'np.where(desired_school_facilities_to_decommission()[School]>=1,np.where(school_training_facilities_to_be_constructed()[School]<.1,1/dt(),0),0)', 'kind': 'R', 'py_name': 'school_facility_destruction_rate', 'subs': 'School', 'real_name': 'School Facility Destruction Rate'}\n",
      "{'expr': 'np.where(time()>=time_to_start_allowing_new_construction(),1,0)', 'kind': 'A', 'py_name': 'switch_for_start_of_construction', 'subs': '', 'real_name': 'Switch for Start of Construction'}\n",
      "{'expr': 'np.where(average_wait_time_for_a_school()>desired_average_wait_time() and fraction_of_actual_vs_desired_a_school_facilities()<1,desired_a_school_training_facilities()-current_schools_open_or_under_construction()[A School],0)', 'kind': 'A', 'py_name': 'desired_new_a_school_facilities', 'subs': '', 'real_name': 'Desired New A School Facilities'}\n",
      "{'expr': 'np.where(a_school_student_backlog()>0.1,a_school_student_backlog()/desired_time_to_clear_a_school_student_backlog(),0)', 'kind': 'A', 'py_name': 'desired_a_school_throughput', 'subs': '', 'real_name': 'Desired A School Throughput'}\n",
      "{'expr': 'np.where(average_wait_time_for_a_school()<desired_average_wait_time(),np.floor(np.maximum(0,(current_schools_open_or_under_construction()[A School]-target_a_school_facilities_if_surplus()))),0)', 'kind': 'A', 'py_name': 'target_a_school_facilities_to_decommission', 'subs': '', 'real_name': 'Target A School Facilities to Decommission'}\n",
      "{'expr': 'np.where(desired_courses_per_instructor()[School]>0 and desired_courses_per_instructor()[School]<.5,1,np.round(desired_courses_per_instructor()[School]))', 'kind': 'A', 'py_name': 'actual_courses_per_instructor', 'subs': 'School', 'real_name': 'Actual Courses per Instructor'}\n"
     ]
    },
    {
     "data": {
      "text/plain": [
       "{'np.where'}"
      ]
     },
     "execution_count": 129,
     "metadata": {},
     "output_type": "execute_result"
    }
   ],
   "source": [
    "ret=[]\n",
    "for val in entries:\n",
    "    value = re.search(r'(np\\.where)',val['expr'])\n",
    "    if value:\n",
    "        ret.append(value.group(1))\n",
    "        print val\n",
    "#         if value.group(1)=='A':\n",
    "#             print val\n",
    "set(ret)"
   ]
  },
  {
   "cell_type": "code",
   "execution_count": 49,
   "metadata": {
    "collapsed": false
   },
   "outputs": [
    {
     "data": {
      "text/plain": [
       "{'A', 'ANNUAL', 'C', 'CS', 'IF', 'LOS', 'NEC', 'O', 'R', 'S', 'TIME'}"
      ]
     },
     "execution_count": 49,
     "metadata": {},
     "output_type": "execute_result"
    }
   ],
   "source": [
    "# namespace = {'TIME': 'time', 'Time': 'time'}  # Initialize with builtins\n",
    "# for key,element in datadictionary.iteritems():\n",
    "#     if element['kind'] not in ['FOR']:\n",
    "#         element['py_name'], namespace = utils.make_python_identifier(key,\n",
    "#                                                                      namespace)\n",
    "{'A', 'ANNUAL', 'C', 'CS', 'IF', 'LOS', 'NEC', 'O', 'R', 'S', 'TIME'}"
   ]
  },
  {
   "cell_type": "code",
   "execution_count": 37,
   "metadata": {
    "collapsed": false
   },
   "outputs": [
    {
     "data": {
      "text/plain": [
       "{'expr': [('Table for Multiplier for Overall Strength Target(Positive Gap above Rank[Ranks]) ',\n",
       "   'Ranks')],\n",
       " 'init': [],\n",
       " 'kind': 'A',\n",
       " 'py_name': 'multiplier_for_above_rank_targets'}"
      ]
     },
     "execution_count": 37,
     "metadata": {},
     "output_type": "execute_result"
    }
   ],
   "source": [
    "# parse_general_expression(entries[1],namespace,model_subs)\n",
    "# entries[10]\n",
    "# temp['expr']=temp['expr'].replace(')',',0)')\n",
    "# datadictionary['levels']\n",
    "# for i in range(len(entries)):\n",
    "#     if entries[i]['real_name']=='Cumulative Costs':\n",
    "#         print i\n",
    "# entries[0]\n",
    "datadictionary[datadictionary.keys()[12]]"
   ]
  },
  {
   "cell_type": "code",
   "execution_count": 33,
   "metadata": {
    "collapsed": false
   },
   "outputs": [
    {
     "data": {
      "text/plain": [
       "('integ_hello()',\n",
       " [{'arguments': '',\n",
       "   'doc': 'Integrates Expression cost_rate()',\n",
       "   'kind': 'stateful',\n",
       "   'py_expr': 'functions.Integ(lambda: cost_rate(), lambda: 0)',\n",
       "   'py_name': 'integ_hello',\n",
       "   'real_name': 'Representation of  hello',\n",
       "   'subs': '',\n",
       "   'unit': 'None'}])"
      ]
     },
     "execution_count": 33,
     "metadata": {},
     "output_type": "execute_result"
    }
   ],
   "source": [
    "builder.add_stock('hello',[],'cost_rate()','0',model_subs)"
   ]
  },
  {
   "cell_type": "code",
   "execution_count": 49,
   "metadata": {
    "collapsed": true
   },
   "outputs": [],
   "source": [
    "def parse_general_expression(element, namespace=None, subscript_dict=None):\n",
    "    \n",
    "    if namespace is None:\n",
    "        namespace = {}\n",
    "    if subscript_dict is None:\n",
    "        subscript_dict = {}\n",
    "\n",
    "    functions = functiondic\n",
    "\n",
    "    builders = {\n",
    "        \"integ\": lambda expr, init: builder.add_stock(element['py_name'], element['subs'],\n",
    "                                                      expr, init, subscript_dict),\n",
    "        \"delay1\": lambda in_var, dtime: builder.add_n_delay(in_var, dtime, '0', '1',\n",
    "                                                            element['subs'], subscript_dict),\n",
    "        \"delay1i\": lambda in_var, dtime, init: builder.add_n_delay(in_var, dtime, init, '1',\n",
    "                                                                   element['subs'], subscript_dict),\n",
    "        \"delay3\": lambda in_var, dtime: builder.add_n_delay(in_var, dtime, '0', '3',\n",
    "                                                            element['subs'], subscript_dict),\n",
    "        \"delay3i\": lambda in_var, dtime, init: builder.add_n_delay(in_var, dtime, init, '3',\n",
    "                                                                   element['subs'], subscript_dict),\n",
    "        \"delay n\": lambda in_var, dtime, init, order: builder.add_n_delay(in_var, dtime,\n",
    "                                                                          init, order,\n",
    "                                                                          element['subs'],\n",
    "                                                                          subscript_dict),\n",
    "        \"smooth\": lambda in_var, dtime: builder.add_n_smooth(in_var, dtime, '0', '1',\n",
    "                                                             element['subs'], subscript_dict),\n",
    "        \"smoothi\": lambda in_var, dtime, init: builder.add_n_smooth(in_var, dtime, init, '1',\n",
    "                                                                    element['subs'],\n",
    "                                                                    subscript_dict),\n",
    "        \"smooth3\": lambda in_var, dtime: builder.add_n_smooth(in_var, dtime, '0', '3',\n",
    "                                                              element['subs'], subscript_dict),\n",
    "        \"smooth3i\": lambda in_var, dtime, init: builder.add_n_smooth(in_var, dtime, init, '3',\n",
    "                                                                     element['subs'],\n",
    "                                                                     subscript_dict),\n",
    "        \"smooth n\": lambda in_var, dtime, init, order: builder.add_n_smooth(in_var, dtime,\n",
    "                                                                            init, order,\n",
    "                                                                            element['subs'],\n",
    "                                                                            subscript_dict),\n",
    "        \"initial\": lambda initial_input: builder.add_initial(initial_input)\n",
    "    }\n",
    "\n",
    "    in_ops = {\n",
    "        \"+\": \"+\", \"-\": \"-\", \"*\": \"*\", \"/\": \"/\", \"^\": \"**\", \"=\": \"==\", \"<=\": \"<=\", \"<>\": \"!=\",\n",
    "        \"<\": \"<\", \">=\": \">=\", \">\": \">\",\n",
    "        \":and:\": \" and \", \":or:\": \" or \"}  # spaces important for word-based operators\n",
    "\n",
    "    pre_ops = {\n",
    "        \"-\": \"-\", \":not:\": \" not \",  # spaces important for word-based operators\n",
    "        \"+\": \" \"  # space is important, so that and empty string doesn't slip through generic\n",
    "    }\n",
    "\n",
    "    # in the following, if lists are empty use non-printable character\n",
    "    # everything needs to be escaped before going into the grammar, in case it includes quotes\n",
    "    sub_names_list = [re.escape(x) for x in subscript_dict.keys()] or ['\\\\a']\n",
    "    sub_elems_list = [re.escape(y) for x in subscript_dict.values() for y in x] or ['\\\\a']\n",
    "    ids_list = [re.escape(x) for x in namespace.keys()] or ['\\\\a']\n",
    "    in_ops_list = [re.escape(x) for x in in_ops.keys()]\n",
    "    pre_ops_list = [re.escape(x) for x in pre_ops.keys()]\n",
    "\n",
    "    expression_grammar = r\"\"\"\n",
    "    expr_type = array / expr\n",
    "    expr = _ pre_oper? _ (lookup_def / build_call / call / parens / number / reference) _ (in_oper _ expr)?\n",
    "\n",
    "    lookup_def = ~r\"(WITH\\ LOOKUP)\"I _ \"(\" _ reference _ \",\" _ \"(\" _  (\"[\" ~r\"[^\\]]*\" \"]\" _ \",\")?  ( \"(\" _ expr _ \",\" _ expr _ \")\" \",\"? _ )+ _ \")\" _ \")\"\n",
    "    call = (func / id) _ \"(\" _ (expr _ \",\"? _)* \")\" # allows calls with no arguments\n",
    "    build_call = builder _ \"(\" _ (expr _ \",\"? _)* \")\" # allows calls with no arguments\n",
    "    parens   = \"(\" _ expr _ \")\"\n",
    "\n",
    "    reference = id _ subscript_list?\n",
    "    subscript_list = \"[\" _ ((sub_name / sub_element) _ \",\"? _)+ \"]\"\n",
    "\n",
    "    array = (number _ (\",\" / \";\")? _)+ !~r\".\"  # negative lookahead for anything other than an array\n",
    "    number = ~r\"\\d+\\.?\\d*(e[+-]\\d+)?\"\n",
    "\n",
    "    id = ~r\"(%(ids)s)\"I\n",
    "    sub_name = ~r\"(%(sub_names)s)\"I  # subscript names (if none, use non-printable character)\n",
    "    sub_element = ~r\"(%(sub_elems)s)\"I  # subscript elements (if none, use non-printable character)\n",
    "\n",
    "    func = ~r\"(%(funcs)s)\"I  # functions (case insensitive)\n",
    "    in_oper = ~r\"(%(in_ops)s)\"I  # infix operators (case insensitive)\n",
    "    pre_oper = ~r\"(%(pre_ops)s)\"I  # prefix operators (case insensitive)\n",
    "    builder = ~r\"(%(builders)s)\"I  # builder functions (case insensitive)\n",
    "\n",
    "    _ = ~r\"[\\s\\\\]*\"  # whitespace character\n",
    "    \"\"\" % {\n",
    "        # In the following, we have to sort keywords in decreasing order of length so that the\n",
    "        # peg parser doesn't quit early when finding a partial keyword\n",
    "        'sub_names': '|'.join(reversed(sorted(sub_names_list, key=len))),\n",
    "        'sub_elems': '|'.join(reversed(sorted(sub_elems_list, key=len))),\n",
    "        'ids': '|'.join(reversed(sorted(ids_list, key=len))),\n",
    "        'funcs': '|'.join(reversed(sorted(functions.keys(), key=len))),\n",
    "        'in_ops': '|'.join(reversed(sorted(in_ops_list, key=len))),\n",
    "        'pre_ops': '|'.join(reversed(sorted(pre_ops_list, key=len))),\n",
    "        'builders': '|'.join(reversed(sorted(builders.keys(), key=len))),\n",
    "    }\n",
    "\n",
    "    parser = parsimonious.Grammar(expression_grammar)\n",
    "    tree = parser.parse(element['expr'])\n",
    "\n",
    "    class ExpressionParser(parsimonious.NodeVisitor):\n",
    "        # Todo: at some point, we could make the 'kind' identification recursive on expression,\n",
    "        # so that if an expression is passed into a builder function, the information\n",
    "        # about whether it is a constant, or calls another function, goes with it.\n",
    "        def __init__(self, ast):\n",
    "            self.translation = \"\"\n",
    "            self.kind = 'constant'  # change if we reference anything else\n",
    "            self.new_structure = []\n",
    "            self.visit(ast)\n",
    "\n",
    "        def visit_expr_type(self, n, vc):\n",
    "            s = ''.join(filter(None, vc)).strip()\n",
    "            self.translation = s\n",
    "\n",
    "        def visit_expr(self, n, vc):\n",
    "            s = ''.join(filter(None, vc)).strip()\n",
    "            self.translation = s\n",
    "            return s\n",
    "\n",
    "        def visit_func(self, n, vc):\n",
    "            self.kind = 'component'\n",
    "            return functions[n.text.lower()]\n",
    "\n",
    "        def visit_in_oper(self, n, vc):\n",
    "            return in_ops[n.text.lower()]\n",
    "\n",
    "        def visit_pre_oper(self, n, vc):\n",
    "            return pre_ops[n.text.lower()]\n",
    "\n",
    "        def visit_reference(self, n, vc):\n",
    "            self.kind = 'component'\n",
    "            id_str = vc[0]\n",
    "            return id_str + '()'\n",
    "\n",
    "        def visit_id(self, n, vc):\n",
    "            return namespace[n.text]\n",
    "\n",
    "        def visit_lookup_def(self, n, vc):\n",
    "            \"\"\" This exists because vensim has multiple ways of doing lookups.\n",
    "            Which is frustrating.\"\"\"\n",
    "            x_val = vc[4]\n",
    "            pairs = vc[11]\n",
    "            mixed_list = pairs.replace('(', '').replace(')', '').split(',')\n",
    "            xs = mixed_list[::2]\n",
    "            ys = mixed_list[1::2]\n",
    "            string = \"functions.lookup(%(x)s, [%(xs)s], [%(ys)s])\" % {\n",
    "                'x': x_val,\n",
    "                'xs': ','.join(xs),\n",
    "                'ys': ','.join(ys)\n",
    "            }\n",
    "            return string\n",
    "\n",
    "        def visit_array(self, n, vc):\n",
    "            if 'subs' in element and element['subs']:  # first test handles when subs is not defined\n",
    "                coords = utils.make_coord_dict(element['subs'], subscript_dict, terse=False)\n",
    "                dims = [utils.find_subscript_name(subscript_dict, sub) for sub in element['subs']]\n",
    "                shape = [len(coords[dim]) for dim in dims]\n",
    "                if ';' in n.text or ',' in n.text:\n",
    "                    text = n.text.strip(';').replace(' ', '').replace(';', ',')\n",
    "                    data = np.array([float(s) for s in text.split(',')]).reshape(shape)\n",
    "                else:\n",
    "                    data = np.tile(float(n.text), shape)\n",
    "                datastr = np.array2string(data, separator=',').replace('\\n', '').replace(' ', '')\n",
    "                return textwrap.dedent(\"\"\"\\\n",
    "                    xr.DataArray(data=%(datastr)s,\n",
    "                                 coords=%(coords)s,\n",
    "                                 dims=%(dims)s )\"\"\" % {\n",
    "                    'datastr': datastr,\n",
    "                    'coords': repr(coords),\n",
    "                    'dims': repr(dims)})\n",
    "\n",
    "            else:\n",
    "                return n.text.replace(' ', '')\n",
    "\n",
    "        def visit_subscript_list(self, n, vc):\n",
    "            refs = vc[2]\n",
    "            subs = [x.strip() for x in refs.split(',')]\n",
    "            coordinates = utils.make_coord_dict(subs, subscript_dict)\n",
    "            if len(coordinates):\n",
    "                return '.loc[%s]' % repr(coordinates)\n",
    "            else:\n",
    "                return ' '\n",
    "\n",
    "        def visit_build_call(self, n, vc):\n",
    "            call = vc[0]\n",
    "            args = vc[4]\n",
    "            self.kind = 'component'\n",
    "            arglist = [x.strip() for x in args.split(',')]\n",
    "            name, structure = builders[call.strip().lower()](*arglist)\n",
    "            self.new_structure += structure\n",
    "            return name\n",
    "\n",
    "        def visit__(self, n, vc):\n",
    "            \"\"\" Handles whitespace characters\"\"\"\n",
    "            return ''\n",
    "\n",
    "        def generic_visit(self, n, vc):\n",
    "            return ''.join(filter(None, vc)) or n.text\n",
    "\n",
    "    parse_object = ExpressionParser(tree)\n",
    "\n",
    "    return ({'py_expr': parse_object.translation,\n",
    "             'kind': parse_object.kind,\n",
    "             'arguments': ''},\n",
    "            parse_object.new_structure)"
   ]
  },
  {
   "cell_type": "code",
   "execution_count": 22,
   "metadata": {
    "collapsed": false
   },
   "outputs": [],
   "source": [
    "import pysd"
   ]
  },
  {
   "cell_type": "code",
   "execution_count": 25,
   "metadata": {
    "collapsed": false
   },
   "outputs": [],
   "source": [
    "test=pysd.read_vensim('tests/test-models/tests/subscript_3d_arrays/test_subscript_3d_arrays.mdl')"
   ]
  },
  {
   "cell_type": "code",
   "execution_count": 130,
   "metadata": {
    "collapsed": false
   },
   "outputs": [
    {
     "ename": "NameError",
     "evalue": "name 'forloop' is not defined",
     "output_type": "error",
     "traceback": [
      "\u001b[1;31m---------------------------------------------------------------------------\u001b[0m",
      "\u001b[1;31mNameError\u001b[0m                                 Traceback (most recent call last)",
      "\u001b[1;32m<ipython-input-130-bc83efa47441>\u001b[0m in \u001b[0;36m<module>\u001b[1;34m()\u001b[0m\n\u001b[0;32m      1\u001b[0m \u001b[1;32mfor\u001b[0m \u001b[0mi\u001b[0m \u001b[1;32min\u001b[0m \u001b[0mrange\u001b[0m\u001b[1;33m(\u001b[0m\u001b[1;36m10\u001b[0m\u001b[1;33m)\u001b[0m\u001b[1;33m:\u001b[0m\u001b[1;33m\u001b[0m\u001b[0m\n\u001b[1;32m----> 2\u001b[1;33m     \u001b[0mforloop\u001b[0m\u001b[1;33m.\u001b[0m\u001b[0mcounter\u001b[0m\u001b[1;33m\u001b[0m\u001b[0m\n\u001b[0m",
      "\u001b[1;31mNameError\u001b[0m: name 'forloop' is not defined"
     ]
    }
   ],
   "source": [
    "for i in range(10):\n",
    "    forloop.counter"
   ]
  }
 ],
 "metadata": {
  "kernelspec": {
   "display_name": "Python 2",
   "language": "python",
   "name": "python2"
  },
  "language_info": {
   "codemirror_mode": {
    "name": "ipython",
    "version": 2
   },
   "file_extension": ".py",
   "mimetype": "text/x-python",
   "name": "python",
   "nbconvert_exporter": "python",
   "pygments_lexer": "ipython2",
   "version": "2.7.10"
  }
 },
 "nbformat": 4,
 "nbformat_minor": 0
}
